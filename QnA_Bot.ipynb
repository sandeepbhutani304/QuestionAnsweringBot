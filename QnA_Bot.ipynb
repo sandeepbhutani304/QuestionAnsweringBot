{
  "nbformat": 4,
  "nbformat_minor": 0,
  "metadata": {
    "colab": {
      "name": "QnA Bot.ipynb",
      "version": "0.3.2",
      "provenance": [],
      "collapsed_sections": [],
      "include_colab_link": true
    },
    "kernelspec": {
      "name": "python3",
      "display_name": "Python 3"
    }
  },
  "cells": [
    {
      "cell_type": "markdown",
      "metadata": {
        "id": "view-in-github",
        "colab_type": "text"
      },
      "source": [
        "<a href=\"https://colab.research.google.com/github/sandeepbhutani304/QuestionAnsweringBot/blob/master/QnA_Bot.ipynb\" target=\"_parent\"><img src=\"https://colab.research.google.com/assets/colab-badge.svg\" alt=\"Open In Colab\"/></a>"
      ]
    },
    {
      "cell_type": "code",
      "metadata": {
        "id": "O9fXeV7L6FKG",
        "colab_type": "code",
        "colab": {}
      },
      "source": [
        "!pip install allennlp"
      ],
      "execution_count": 0,
      "outputs": []
    },
    {
      "cell_type": "code",
      "metadata": {
        "id": "cSRNyWJ357R-",
        "colab_type": "code",
        "colab": {
          "base_uri": "https://localhost:8080/",
          "height": 105
        },
        "outputId": "42e60db1-492d-4fe2-d520-fec6a92cb263"
      },
      "source": [
        "from allennlp.predictors.predictor import Predictor\n",
        "predictor = Predictor.from_path(\"https://s3-us-west-2.amazonaws.com/allennlp/models/bidaf-model-2017.09.15-charpad.tar.gz\")\n",
        "# Contents copied from https://en.wikipedia.org/wiki/India\n",
        "passage = \"\"\"\n",
        "By 55,000 years ago, the first modern humans, or Homo sapiens., had arrived on the Indian subcontinent from Africa, where they had earlier evolved.[63][64][65] The earliest known modern human remains in South Asia date to about 30,000 years ago.[66] Nearly contemporaneous human rock art sites have been found in many parts of the Indian subcontinent, including at the Bhimbetka rock shelters in Madhya Pradesh.[67] After 6500 BCE, evidence for domestication of food crops and animals, construction of permanent structures, and storage of agricultural surplus, appeared in Mehrgarh and other sites in what is now Balochistan.[68] These gradually developed into the Indus Valley Civilisation,[69][68] the first urban culture in South Asia,[70] which flourished during 2500–1900 BCE in what is now Pakistan and western India.[71] Centred around cities such as Mohenjo-daro, Harappa, Dholavira, and Kalibangan, and relying on varied forms of subsistence, the civilization engaged robustly in crafts production and wide-ranging trade\n",
        "India is the world's most populous democracy.[203] A Parliamentary Republic with a multi-party system,[204] it has seven recognised national parties, including the Indian National Congress and the Bharatiya Janata Party (BJP), and more than 40 regional parties.[205] The Congress is considered centre-left in Indian political culture,[206] and the BJP right-wing.[207][208][209] For most of the period between 1950—when India first became a republic—and the late 1980s, the Congress held a majority in the parliament. Since then, however, it has increasingly shared the political stage with the BJP,[210] as well as with powerful regional parties which have often forced the creation of multi-party coalition governments at the centre\n",
        "India is a federal union comprising 29 states and 7 union territories.[243] All states, as well in addition to the union territories of Puducherry and the National Capital Territory of Delhi, have elected legislatures and governments following on the Westminster system of governance. The remaining five union territories are directly ruled by the centre through appointed administrators. In 1956, under the States Reorganisation Act, states were reorganised on a linguistic basis.[244] There are over a quarter of a million local government bodies at city, town, block, district and village levels\n",
        "According to the International Monetary Fund (IMF), the Indian economy in 2017 was nominally worth US$2.611 trillion; it is the sixth-largest economy by market exchange rates, and is, at US$9.459 trillion, the third-largest by purchasing power parity, or PPP.[16] With its average annual GDP growth rate of 5.8% over the past two decades, and reaching 6.1% during 2011–2012,[280] India is one of the world's fastest-growing economies.[281] However, the country ranks 140th in the world in nominal GDP per capita and 129th in GDP per capita at PPP.[282] Until 1991, all Indian governments followed protectionist policies that were influenced by socialist economics. Widespread state intervention and regulation largely walled the economy off from the outside world. An acute balance of payments crisis in 1991 forced the nation to liberalise its economy;[283] since then it has slowly moved towards a free-market system[284][285] by emphasising both foreign trade and direct investment inflows.[286] India has been a member of WTO since 1 January 1995\n",
        "With 1,210,193,422 residents reported in the 2011 provisional census report,[330] India is the world's second-most populous country. Its population grew by 17.64% during 2001–2011,[331] compared to 21.54% growth in the previous decade (1991–2001).[331] The human sex ratio, according to the 2011 census, is 940 females per 1,000 males.[330] The median age was 27.6 as of 2016.[268] The first post-colonial census, conducted in 1951, counted 361.1 million people.[332] Medical advances made in the last 50 years as well as increased agricultural productivity brought about by the \"Green Revolution\" have caused India's population to grow rapidly.[333] India continues to face several public health-related challenges.[334][335]\n",
        "\n",
        "Life expectancy in India is at 68 years, with life expectancy for women being 69.6 years and for men being 67.3.[336] There are around 50 physicians per 100,000 Indians.[337] Migration from rural to urban areas has been an important dynamic in the recent history of India. The number of Indians living in urban areas grew by 31.2% between 1991 and 2001.[338] Yet, in 2001, over 70% still lived in rural areas.[339][340] The level of urbanisation increased further from 27.81% in the 2001 Census to 31.16% in the 2011 Census. The slowing down of the overall growth rate of population was due to the sharp decline in the growth rate in rural areas since 1991.[341] According to the 2011 census, there are 53 million-plus urban agglomerations in India; among them Mumbai, Delhi, Kolkata, Chennai, Bangalore, Hyderabad and Ahmedabad, in decreasing order by population.[342] The literacy rate in 2011 was 74.04%: 65.46% among females and 82.14% among males.[343] The rural-urban literacy gap, which was 21.2 percentage points in 2001, dropped to 16.1 percentage points in 2011. The improvement in literacy rate in rural area is two times that in urban areas.[341] Kerala is the most literate state with 93.91% literacy; while Bihar the least with 63.82%\n",
        "\"\"\""
      ],
      "execution_count": 27,
      "outputs": [
        {
          "output_type": "stream",
          "text": [
            "/usr/local/lib/python3.6/dist-packages/torch/nn/modules/rnn.py:54: UserWarning: dropout option adds dropout after all but last recurrent layer, so non-zero dropout expects num_layers greater than 1, but got dropout=0.2 and num_layers=1\n",
            "  \"num_layers={}\".format(dropout, num_layers))\n",
            "/usr/local/lib/python3.6/dist-packages/allennlp/data/token_indexers/token_characters_indexer.py:56: UserWarning: You are using the default value (0) of `min_padding_length`, which can cause some subtle bugs (more info see https://github.com/allenai/allennlp/issues/1954). Strongly recommend to set a value, usually the maximum size of the convolutional layer size when using CnnEncoder.\n",
            "  UserWarning)\n"
          ],
          "name": "stderr"
        }
      ]
    },
    {
      "cell_type": "code",
      "metadata": {
        "id": "UXm6fdRR6n8V",
        "colab_type": "code",
        "colab": {
          "base_uri": "https://localhost:8080/",
          "height": 34
        },
        "outputId": "d41ee545-5027-4b94-90b8-9cbeee713ad3"
      },
      "source": [
        "# \"what is GDP growth rate of india?\"\n",
        "# \"how many political parties are there in india?\"\n",
        "# \"how are union territoris managed?\"\n",
        "# \"how many states are there in india?\"\n",
        "\n",
        "result=predictor.predict(\n",
        "  passage=passage,\n",
        "  question=\"how are union territoris managed?\"\n",
        ")\n",
        "result['best_span_str']"
      ],
      "execution_count": 33,
      "outputs": [
        {
          "output_type": "execute_result",
          "data": {
            "text/plain": [
              "'The remaining five union territories are directly ruled by the centre through appointed administrators'"
            ]
          },
          "metadata": {
            "tags": []
          },
          "execution_count": 33
        }
      ]
    }
  ]
}